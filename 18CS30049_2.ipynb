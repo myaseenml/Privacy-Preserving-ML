{
  "cells": [
    {
      "cell_type": "code",
      "execution_count": 3,
      "metadata": {
        "colab": {
          "base_uri": "https://localhost:8080/"
        },
        "id": "wXny9kecKT0g",
        "outputId": "3b4af52e-befe-4a63-d335-ac89b921da0e"
      },
      "outputs": [
        {
          "name": "stdout",
          "output_type": "stream",
          "text": [
            "Loading data\n",
            "Error (MSE) that each client gets on test set by training only on own local data:\n",
            "Hospital 1:\t3810.44\n",
            "Hospital 2:\t3982.58\n",
            "Hospital 3:\t3569.32\n",
            "Hospital 4:\t4144.15\n",
            "Hospital 5:\t3848.39\n",
            "Running distributed gradient aggregation for 50 iterations\n",
            "Error (MSE) that each client gets after running the protocol:\n",
            "Hospital 1:\t3775.50\n",
            "Hospital 2:\t3775.50\n",
            "Hospital 3:\t3775.50\n",
            "Hospital 4:\t3775.50\n",
            "Hospital 5:\t3775.50\n",
            "\n",
            "\n",
            "Time Taken to compute federated learning process = 0.0 mins 51.8663330078125 secs\n"
          ]
        }
      ],
      "source": [
        "# Question 1\n",
        "!python federated_learning_with_encryption.py"
      ]
    },
    {
      "cell_type": "code",
      "execution_count": 4,
      "metadata": {
        "id": "QMa6nqu7CE5X"
      },
      "outputs": [],
      "source": [
        "#-------------------------------------------------------------------------------\n",
        "# Question 2 | PSEUDO CODE | LOGIC/SYSTEM DEISGN\n",
        "#-------------------------------------------------------------------------------\n",
        "# 1. Train SVM Classifier model on server using the encrypted public data\n",
        "# 2. Encrypt the data on the client. \n",
        "# 3. Send the encrypted X_test to the server.\n",
        "# 4. Use unencrypted model parameters for inference\n",
        "# 5. Send model predictions back to the client\n",
        "# 6. On the client, decrypt Y_pred and calculate accuracy."
      ]
    },
    {
      "cell_type": "code",
      "execution_count": 5,
      "metadata": {
        "colab": {
          "base_uri": "https://localhost:8080/"
        },
        "id": "dgbUSPEaFgiJ",
        "outputId": "1eb174d2-9370-4630-eeee-f75545983d81"
      },
      "outputs": [
        {
          "name": "stdout",
          "output_type": "stream",
          "text": [
            "\n",
            "\n",
            "Test accuracy for Privacy-preserving SVM Model is 0.75\n",
            "\n",
            "\n",
            "Total Time Taken: = 0.0 mins 33.56 secs\n"
          ]
        }
      ],
      "source": [
        "# Question 2\n",
        "import os\n",
        "import math\n",
        "import time\n",
        "import numpy as np\n",
        "import pandas as pd\n",
        "import phe.encoding\n",
        "from phe import paillier\n",
        "from sklearn.svm import SVC\n",
        "from sklearn.metrics import accuracy_score\n",
        "\n",
        "#-------------------------------------------------------------------------------------------------------------------------------------------------\n",
        "# UTIL FUNCTIONS\n",
        "#-------------------------------------------------------------------------------------------------------------------------------------------------\n",
        "class ExampleEncodedNumber(phe.encoding.EncodedNumber):\n",
        "    BASE = 64\n",
        "    LOG2_BASE = math.log(BASE, 2)\n",
        "\n",
        "def encrypt_vector(vec, public_key):\n",
        "  # encoded_vector = [ExampleEncodedNumber.encode(public_key, v) for v in vec]\n",
        "  # encrypted_vector = [public_key.encrypt(ev) for ev in encoded_vector]\n",
        "  encrypted_vector = [public_key.encrypt(ev) for ev in vec]\n",
        "  return encrypted_vector\n",
        "\n",
        "def decrypt_vector(vec, private_key):\n",
        "  # decoded_vector = [private_key.decrypt_encoded(x, ExampleEncodedNumber) for x in vec]\n",
        "  # decrypted_vector = [d.decode() for d in decoded_vector]\n",
        "  decrypted_vector = [private_key.decrypt(x) for x in vec]\n",
        "  return decrypted_vector\n",
        "\n",
        "def load_data(input_file, target_feature):\n",
        "  # Load data and separate the features and labels\n",
        "  data = pd.read_csv(input_file).dropna()\n",
        "  X = data.drop(target_feature, axis=1).values.tolist()\n",
        "  y = data[target_feature].values.tolist()\n",
        "  return X, y\n",
        "  \n",
        "#-------------------------------------------------------------------------------------------------------------------------------------------------\n",
        "# CLIENT CLASS\n",
        "#-------------------------------------------------------------------------------------------------------------------------------------------------\n",
        "class Client:\n",
        "\n",
        "    def __init__(self, key_length):\n",
        "        # Generate the public and private keys for Paillier encryption\n",
        "        public_key, private_key = paillier.generate_paillier_keypair(n_length=key_length)\n",
        "        self.public_key, self.private_key = public_key, private_key\n",
        "\n",
        "    def encrypt_data(self, input_file, target_feature):        \n",
        "        # Encrypt the testing data and labels\n",
        "        self.X_test, self.y_test = load_data(input_file, target_feature)\n",
        "        self.X_test_encrypted = [encrypt_vector(x, self.public_key) for x in self.X_test]\n",
        "        self.y_test_encrypted = encrypt_vector(self.y_test, self.public_key)\n",
        "        return self.X_test_encrypted, self.y_test_encrypted\n",
        "    \n",
        "    def eval(self, encrypted_predictions):\n",
        "        logits = decrypt_vector(encrypted_predictions, self.private_key)\n",
        "        y_pred = [1 if l>0 else 0 for l in logits]\n",
        "        test_accuracy = accuracy_score(self.y_test, y_pred)\n",
        "        return test_accuracy\n",
        "\n",
        "#-------------------------------------------------------------------------------------------------------------------------------------------------\n",
        "# SERVER CLASS\n",
        "#-------------------------------------------------------------------------------------------------------------------------------------------------\n",
        "\n",
        "class Server:\n",
        "\n",
        "    def __init__(self, input_file, target_feature):\n",
        "        self.model = None\n",
        "        self.X_train, self.y_train = load_data(input_file, target_feature)\n",
        "        \n",
        "    def train_model(self,hyperparams):\n",
        "        # Train the SVM model\n",
        "        svm_model = SVC(kernel=hyperparams['kernel'], C=hyperparams['C'], gamma=hyperparams['gamma'])\n",
        "        svm_model.fit(self.X_train, self.y_train)\n",
        "        self.model = svm_model\n",
        "\n",
        "    def predict(self, X_test_encrypted):\n",
        "        # Make predictions on the encrypted test data using the trained model\n",
        "        encrypted_logits = list()\n",
        "        w = self.model.coef_[0]\n",
        "        b = self.model.intercept_[0]\n",
        "        for x in X_test_encrypted:\n",
        "          score = b\n",
        "          for i in range(len(x)):\n",
        "            score += x[i]*w[i]\n",
        "          encrypted_logits.append(score)\n",
        "        return encrypted_logits\n",
        "\n",
        "#-------------------------------------------------------------------------------------------------------------------------------------------------\n",
        "# DRIVER CODE\n",
        "#-------------------------------------------------------------------------------------------------------------------------------------------------\n",
        "start_time = time.time()\n",
        "\n",
        "# Parameters\n",
        "key_length = 1024\n",
        "target_feature = \"Outcome\"\n",
        "hyperparameters = {'kernel':'linear', 'C':1, 'gamma':'auto'}\n",
        "\n",
        "# Instantiate Server\n",
        "server = Server(\"server/train.csv\", target_feature)\n",
        "# Train SVM Classifier\n",
        "svm_model = server.train_model(hyperparameters)\n",
        "\n",
        "# Instantiate Client\n",
        "client = Client(key_length)\n",
        "# Encrypt data on client machine\n",
        "X_test_encrypted, y_test_encrypted = client.encrypt_data(\"client/test.csv\", target_feature)\n",
        "\n",
        "# Send encrypted data to server for inference\n",
        "encrypted_preds = server.predict(X_test_encrypted)\n",
        "\n",
        "# Send encrypted predictions back to client and evaluate accuracy\n",
        "test_accuracy = client.eval(encrypted_preds)\n",
        "print(f'\\n\\nTest accuracy for Privacy-preserving SVM Model is {round(test_accuracy, 2)}')\n",
        "\n",
        "end_time = time.time()\n",
        "time_taken = (end_time - start_time)\n",
        "print(f'\\n\\nTotal Time Taken: = {time_taken//60} mins {round(time_taken%60,2)} secs')"
      ]
    },
    {
      "cell_type": "markdown",
      "metadata": {
        "id": "zOwO9lVIZRpa"
      },
      "source": [
        "## Verifying Results\n"
      ]
    },
    {
      "cell_type": "code",
      "execution_count": 8,
      "metadata": {
        "colab": {
          "base_uri": "https://localhost:8080/"
        },
        "id": "ZgjYcbWG3CHK",
        "outputId": "d06c4f4f-dd03-4c0e-a6ac-dc5e7af3e8b8"
      },
      "outputs": [
        {
          "name": "stdout",
          "output_type": "stream",
          "text": [
            "/content/Adversarial-Machine-Learning/A2\n",
            "\n",
            "\n",
            "Test accuracy for Normal SVM Model is 0.75\n",
            "\n",
            "\n",
            "Total Time Taken: = 0.0 mins 3.31 secs\n"
          ]
        }
      ],
      "source": [
        "#------------------------------------------------------------------------------------------------------------------------------\n",
        "# SVM CLASSIFIER WITH UNENCRYPTED DATA AND UNENCRYPTED MODEL\n",
        "#------------------------------------------------------------------------------------------------------------------------------\n",
        "%cd /content/Adversarial-Machine-Learning/A2\n",
        "import os\n",
        "import math\n",
        "import time\n",
        "import pandas as pd\n",
        "from sklearn.svm import SVC\n",
        "from sklearn.metrics import accuracy_score\n",
        "\n",
        "def load_data(input_file, target_feature):\n",
        "  data = pd.read_csv(input_file).dropna()\n",
        "  X = data.drop(target_feature, axis=1).values.tolist()\n",
        "  y = data[target_feature].values.tolist()\n",
        "  return X, y\n",
        "\n",
        "start_time = time.time()\n",
        "target_feature = \"Outcome\"\n",
        "hyperparameters = {'kernel':'linear', 'C':1, 'gamma':'auto'}\n",
        "\n",
        "X_train, y_train = load_data(\"server/train.csv\", target_feature)\n",
        "X_test, y_test = load_data(\"client/test.csv\", target_feature)\n",
        "\n",
        "svm_model = SVC(kernel=hyperparameters['kernel'], C=hyperparameters['C'], gamma=hyperparameters['gamma'])\n",
        "svm_model.fit(X_train, y_train)\n",
        "\n",
        "y_pred = svm_model.predict(X_test)\n",
        "test_accuracy = accuracy_score(y_test, y_pred)\n",
        "\n",
        "print(f'\\n\\nTest accuracy for Normal SVM Model is {round(test_accuracy, 2)}')\n",
        "end_time = time.time()\n",
        "time_taken = (end_time - start_time)\n",
        "print(f'\\n\\nTotal Time Taken: = {time_taken//60} mins {round(time_taken%60,2)} secs')"
      ]
    },
    {
      "cell_type": "code",
      "execution_count": 9,
      "metadata": {
        "colab": {
          "base_uri": "https://localhost:8080/",
          "height": 364
        },
        "id": "lT0Z6yFm690Y",
        "outputId": "727caf74-55d2-42dd-cf33-2506b46d3967"
      },
      "outputs": [
        {
          "ename": "NotImplementedError",
          "evalue": "ignored",
          "output_type": "error",
          "traceback": [
            "\u001b[0;31m---------------------------------------------------------------------------\u001b[0m",
            "\u001b[0;31mNotImplementedError\u001b[0m                       Traceback (most recent call last)",
            "\u001b[0;32m<ipython-input-9-8950f0cd24d6>\u001b[0m in \u001b[0;36m<cell line: 21>\u001b[0;34m()\u001b[0m\n\u001b[1;32m     19\u001b[0m \u001b[0mencrypted_b\u001b[0m \u001b[0;34m=\u001b[0m \u001b[0mpublic_key\u001b[0m\u001b[0;34m.\u001b[0m\u001b[0mencrypt\u001b[0m\u001b[0;34m(\u001b[0m\u001b[0mencoded_b\u001b[0m\u001b[0;34m)\u001b[0m\u001b[0;34m\u001b[0m\u001b[0;34m\u001b[0m\u001b[0m\n\u001b[1;32m     20\u001b[0m \u001b[0;34m\u001b[0m\u001b[0m\n\u001b[0;32m---> 21\u001b[0;31m \u001b[0mx\u001b[0m \u001b[0;34m=\u001b[0m \u001b[0;36m2\u001b[0m\u001b[0;34m*\u001b[0m\u001b[0mencrypted_a\u001b[0m \u001b[0;34m+\u001b[0m \u001b[0;36m3\u001b[0m\u001b[0;34m*\u001b[0m\u001b[0mencrypted_b\u001b[0m\u001b[0;34m*\u001b[0m\u001b[0mencrypted_b\u001b[0m\u001b[0;34m\u001b[0m\u001b[0;34m\u001b[0m\u001b[0m\n\u001b[0m\u001b[1;32m     22\u001b[0m \u001b[0mxd\u001b[0m \u001b[0;34m=\u001b[0m \u001b[0mprivate_key\u001b[0m\u001b[0;34m.\u001b[0m\u001b[0mdecrypt_encoded\u001b[0m\u001b[0;34m(\u001b[0m\u001b[0mx\u001b[0m\u001b[0;34m,\u001b[0m \u001b[0mExampleEncodedNumber\u001b[0m\u001b[0;34m)\u001b[0m\u001b[0;34m\u001b[0m\u001b[0;34m\u001b[0m\u001b[0m\n\u001b[1;32m     23\u001b[0m \u001b[0mprint\u001b[0m\u001b[0;34m(\u001b[0m\u001b[0;34m\"Decrypted: {}\"\u001b[0m\u001b[0;34m.\u001b[0m\u001b[0mformat\u001b[0m\u001b[0;34m(\u001b[0m\u001b[0mxd\u001b[0m\u001b[0;34m.\u001b[0m\u001b[0mdecode\u001b[0m\u001b[0;34m(\u001b[0m\u001b[0;34m)\u001b[0m\u001b[0;34m)\u001b[0m\u001b[0;34m)\u001b[0m\u001b[0;34m\u001b[0m\u001b[0;34m\u001b[0m\u001b[0m\n",
            "\u001b[0;32m/usr/local/lib/python3.9/dist-packages/phe/paillier.py\u001b[0m in \u001b[0;36m__mul__\u001b[0;34m(self, other)\u001b[0m\n\u001b[1;32m    506\u001b[0m         \u001b[0;34m\"\"\"Multiply by an int, float, or EncodedNumber.\"\"\"\u001b[0m\u001b[0;34m\u001b[0m\u001b[0;34m\u001b[0m\u001b[0m\n\u001b[1;32m    507\u001b[0m         \u001b[0;32mif\u001b[0m \u001b[0misinstance\u001b[0m\u001b[0;34m(\u001b[0m\u001b[0mother\u001b[0m\u001b[0;34m,\u001b[0m \u001b[0mEncryptedNumber\u001b[0m\u001b[0;34m)\u001b[0m\u001b[0;34m:\u001b[0m\u001b[0;34m\u001b[0m\u001b[0;34m\u001b[0m\u001b[0m\n\u001b[0;32m--> 508\u001b[0;31m             \u001b[0;32mraise\u001b[0m \u001b[0mNotImplementedError\u001b[0m\u001b[0;34m(\u001b[0m\u001b[0;34m'Good luck with that...'\u001b[0m\u001b[0;34m)\u001b[0m\u001b[0;34m\u001b[0m\u001b[0;34m\u001b[0m\u001b[0m\n\u001b[0m\u001b[1;32m    509\u001b[0m \u001b[0;34m\u001b[0m\u001b[0m\n\u001b[1;32m    510\u001b[0m         \u001b[0;32mif\u001b[0m \u001b[0misinstance\u001b[0m\u001b[0;34m(\u001b[0m\u001b[0mother\u001b[0m\u001b[0;34m,\u001b[0m \u001b[0mEncodedNumber\u001b[0m\u001b[0;34m)\u001b[0m\u001b[0;34m:\u001b[0m\u001b[0;34m\u001b[0m\u001b[0;34m\u001b[0m\u001b[0m\n",
            "\u001b[0;31mNotImplementedError\u001b[0m: Good luck with that..."
          ]
        }
      ],
      "source": [
        "#!/usr/bin/env python3.4\n",
        "import math\n",
        "import phe.encoding\n",
        "from phe import paillier\n",
        "\n",
        "class ExampleEncodedNumber(phe.encoding.EncodedNumber):\n",
        "    BASE = 64\n",
        "    LOG2_BASE = math.log(BASE, 2)\n",
        "\n",
        "public_key, private_key = paillier.generate_paillier_keypair()\n",
        "\n",
        "a=10.5\n",
        "b=20\n",
        "\n",
        "encoded_a = ExampleEncodedNumber.encode(public_key, a)\n",
        "encrypted_a = public_key.encrypt(encoded_a)\n",
        "\n",
        "encoded_b = ExampleEncodedNumber.encode(public_key, b)\n",
        "encrypted_b = public_key.encrypt(encoded_b)\n",
        "\n",
        "x = 2*encrypted_a + 3*encrypted_b*encrypted_b\n",
        "xd = private_key.decrypt_encoded(x, ExampleEncodedNumber)\n",
        "print(\"Decrypted: {}\".format(xd.decode()))"
      ]
    },
    {
      "cell_type": "markdown",
      "metadata": {
        "id": "u68U6YevDzfK"
      },
      "source": [
        "Therefore, Paillier Partially Homomorphic Encryption supports addition and multiplication of an encrypted number by a scalar (constant), but it does not support multiplication of two encrypted numbers directly."
      ]
    }
  ],
  "metadata": {
    "accelerator": "GPU",
    "colab": {
      "provenance": []
    },
    "gpuClass": "standard",
    "kernelspec": {
      "display_name": "Python 3 (ipykernel)",
      "language": "python",
      "name": "python3"
    },
    "language_info": {
      "codemirror_mode": {
        "name": "ipython",
        "version": 3
      },
      "file_extension": ".py",
      "mimetype": "text/x-python",
      "name": "python",
      "nbconvert_exporter": "python",
      "pygments_lexer": "ipython3",
      "version": "3.8.16"
    }
  },
  "nbformat": 4,
  "nbformat_minor": 0
}
